{
 "cells": [
  {
   "cell_type": "markdown",
   "metadata": {},
   "source": [
    "### practising important topics  taughjt by professor of chapter 1   ###"
   ]
  },
  {
   "cell_type": "code",
   "execution_count": 1,
   "metadata": {},
   "outputs": [
    {
     "data": {
      "text/plain": [
       "True"
      ]
     },
     "execution_count": 1,
     "metadata": {},
     "output_type": "execute_result"
    }
   ],
   "source": [
    "5>2"
   ]
  },
  {
   "cell_type": "code",
   "execution_count": 4,
   "metadata": {},
   "outputs": [
    {
     "name": "stdout",
     "output_type": "stream",
     "text": [
      "Hello, World!\n"
     ]
    },
    {
     "data": {
      "text/plain": [
       "'\\nThis is a\\nmulti-line comment\\nor docstring of pyhton\\n'"
      ]
     },
     "execution_count": 4,
     "metadata": {},
     "output_type": "execute_result"
    }
   ],
   "source": [
    "print(\"Hello, World!\")  # This is an inline comment\n",
    "\"\"\"\n",
    "This is a\n",
    "multi-line comment\n",
    "or docstring of pyhton\n",
    "\"\"\""
   ]
  },
  {
   "cell_type": "code",
   "execution_count": 6,
   "metadata": {},
   "outputs": [
    {
     "name": "stdout",
     "output_type": "stream",
     "text": [
      "GOOD LUCK RAJ!\n",
      "Good luck raj!\n",
      "good job raj!\n"
     ]
    }
   ],
   "source": [
    "str = \"good luck raj!\"\n",
    "print(str.upper())  # Output: convert whole struing to capital\n",
    "print(str.capitalize())  #  convert first digit to capital letter\n",
    "print(str.replace(\"luck\", \"job\"))  # Output:  replace 1st string to 2nd given string\n",
    "print(len(str)) # it provide length of given string\n",
    " \n"
   ]
  },
  {
   "cell_type": "code",
   "execution_count": 8,
   "metadata": {},
   "outputs": [
    {
     "name": "stdout",
     "output_type": "stream",
     "text": [
      "jai shree ram\n"
     ]
    }
   ],
   "source": [
    "#concatention Operator\n",
    "str1 = \"jai\"\n",
    "str2 = \"shree ram \"\n",
    "\n",
    "result = str1 + \" \" +str2\n",
    "print(result)"
   ]
  },
  {
   "cell_type": "code",
   "execution_count": 10,
   "metadata": {},
   "outputs": [
    {
     "name": "stdout",
     "output_type": "stream",
     "text": [
      "jai shree ramjai shree ramjai shree ramjai shree ramjai shree ram\n"
     ]
    }
   ],
   "source": [
    "#Repetition operator\n",
    "\n",
    "rep = result * 5\n",
    "print(rep)"
   ]
  },
  {
   "cell_type": "code",
   "execution_count": 11,
   "metadata": {},
   "outputs": [
    {
     "name": "stdout",
     "output_type": "stream",
     "text": [
      "True\n",
      "True\n"
     ]
    }
   ],
   "source": [
    "#Membership opearator (in or not in)\n",
    "\n",
    "print(\"jai\" in result)\n",
    "print(\"Ram\" not in result)  # it is case sensitive"
   ]
  },
  {
   "cell_type": "code",
   "execution_count": 2,
   "metadata": {},
   "outputs": [
    {
     "name": "stdout",
     "output_type": "stream",
     "text": [
      "g\n",
      "t\n",
      "e\n",
      "gra\n"
     ]
    }
   ],
   "source": [
    "#Slice operator\n",
    "# slices  string value of given index\n",
    "str = \"graduate\"\n",
    "\n",
    "print(str[0])\n",
    "print(str[6])\n",
    "print(str[-1])\n",
    "print(str[0:3])"
   ]
  },
  {
   "cell_type": "code",
   "execution_count": 3,
   "metadata": {},
   "outputs": [
    {
     "name": "stdout",
     "output_type": "stream",
     "text": [
      "False\n",
      "True\n",
      "False\n",
      "True\n"
     ]
    }
   ],
   "source": [
    "\"\"\" string comparision operators (==  , != , > ,< , <= , >=)\n",
    "compares ascii values of strings\n",
    "\"\"\"\n",
    "\n",
    "ptr = \"mastersa\"\n",
    "\n",
    "print(str==ptr)\n",
    "print(str!=ptr)\n",
    "print(str>ptr)\n",
    "print(str<ptr)"
   ]
  },
  {
   "cell_type": "code",
   "execution_count": 6,
   "metadata": {},
   "outputs": [
    {
     "name": "stdout",
     "output_type": "stream",
     "text": [
      "My name is Ankur and I am 23 years old.\n",
      "My name is Ankur and I am 23 years old.\n",
      "My name  is Ankur and  I am 23 years old\n"
     ]
    }
   ],
   "source": [
    "# it formate string using placeholders in middle\n",
    "name = \"Ankur\"\n",
    "age = 23\n",
    "print(\"My name is %s and I am %d years old.\" % (name, age))  # Output: My name is Alice and I am 30 years old.Using format()\n",
    "\n",
    "\n",
    "print(\"My name is {} and I am {} years old.\".format(name, age))  # Output: My name is Alice and I am 30 years old.Using f-strings (Python 3.6+)\n",
    "print(f\"My name  is {name } and  I am {age} years old\")  # string formatting also known as f string"
   ]
  },
  {
   "cell_type": "code",
   "execution_count": 8,
   "metadata": {},
   "outputs": [],
   "source": [
    "\"\"\" Type coversion  :- it converts between numeric data types using built-in functions \"\"\"\n",
    "\n",
    "l = int(3.7)        # Converts to 3\n",
    "m = float(5)        # Converts to 5.0\n",
    "n = complex(2)      # Converts to (2+0j)\n",
    "o = bool(0)         # Converts to False\n",
    "p = bool(42)        # Converts to True\n",
    "\n",
    "\n"
   ]
  },
  {
   "cell_type": "markdown",
   "metadata": {},
   "source": [
    "**id** Function: In Python, the __id()__ function returns the unique identifier for an object. It's a numeric value that remains constant during the object's lifetime. For example, id(x) returns the memory address of the variable x."
   ]
  },
  {
   "cell_type": "code",
   "execution_count": 11,
   "metadata": {},
   "outputs": [
    {
     "name": "stdout",
     "output_type": "stream",
     "text": [
      "140731789344504\n",
      "<class 'int'>\n"
     ]
    }
   ],
   "source": [
    "x = 43\n",
    "memory_location = id(x)\n",
    "variable_type = type(x)\n",
    "print(memory_location)\n",
    "print(variable_type)"
   ]
  },
  {
   "cell_type": "code",
   "execution_count": 12,
   "metadata": {},
   "outputs": [
    {
     "name": "stdout",
     "output_type": "stream",
     "text": [
      "Size of x: 28 bytes\n",
      "Type of x: <class 'int'>\n",
      "Memory location (id) of x: 140731789344504\n"
     ]
    }
   ],
   "source": [
    "import sys\n",
    "\n",
    "size  = sys.getsizeof(x)\n",
    "x = 42\n",
    "print(f\"Size of x: {size} bytes\")\n",
    "print(f\"Type of x: {variable_type}\")\n",
    "print(f\"Memory location (id) of x: {memory_location}\")\n",
    "\n"
   ]
  },
  {
   "cell_type": "code",
   "execution_count": 1,
   "metadata": {},
   "outputs": [
    {
     "name": "stdout",
     "output_type": "stream",
     "text": [
      "['__add__', '__class__', '__class_getitem__', '__contains__', '__delattr__', '__delitem__', '__dir__', '__doc__', '__eq__', '__format__', '__ge__', '__getattribute__', '__getitem__', '__getstate__', '__gt__', '__hash__', '__iadd__', '__imul__', '__init__', '__init_subclass__', '__iter__', '__le__', '__len__', '__lt__', '__mul__', '__ne__', '__new__', '__reduce__', '__reduce_ex__', '__repr__', '__reversed__', '__rmul__', '__setattr__', '__setitem__', '__sizeof__', '__str__', '__subclasshook__', 'append', 'clear', 'copy', 'count', 'extend', 'index', 'insert', 'pop', 'remove', 'reverse', 'sort']\n"
     ]
    }
   ],
   "source": [
    "my_list = [1, 2, 3]\n",
    "print(dir(my_list))\n"
   ]
  },
  {
   "cell_type": "code",
   "execution_count": null,
   "metadata": {},
   "outputs": [],
   "source": []
  }
 ],
 "metadata": {
  "kernelspec": {
   "display_name": "Python 3",
   "language": "python",
   "name": "python3"
  },
  "language_info": {
   "codemirror_mode": {
    "name": "ipython",
    "version": 3
   },
   "file_extension": ".py",
   "mimetype": "text/x-python",
   "name": "python",
   "nbconvert_exporter": "python",
   "pygments_lexer": "ipython3",
   "version": "3.12.4"
  }
 },
 "nbformat": 4,
 "nbformat_minor": 2
}
