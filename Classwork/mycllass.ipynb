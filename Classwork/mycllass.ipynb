{
 "cells": [
  {
   "cell_type": "code",
   "execution_count": 9,
   "metadata": {},
   "outputs": [],
   "source": [
    "list1 = [4,5,6]"
   ]
  },
  {
   "cell_type": "code",
   "execution_count": 10,
   "metadata": {},
   "outputs": [
    {
     "name": "stdout",
     "output_type": "stream",
     "text": [
      "[4, 5, 6]\n"
     ]
    }
   ],
   "source": [
    "print(list1)"
   ]
  },
  {
   "cell_type": "code",
   "execution_count": 11,
   "metadata": {},
   "outputs": [
    {
     "name": "stdout",
     "output_type": "stream",
     "text": [
      "<class 'list'>\n",
      "2108455718848\n"
     ]
    }
   ],
   "source": [
    "print(type(list1))\n",
    "print(id(list1))"
   ]
  },
  {
   "cell_type": "code",
   "execution_count": 12,
   "metadata": {},
   "outputs": [
    {
     "name": "stdout",
     "output_type": "stream",
     "text": [
      "[4, 5, 6, 69]\n",
      "<class 'list'>\n",
      "2108455718848\n"
     ]
    }
   ],
   "source": [
    "list1.append(69)\n",
    "print(list1)\n",
    "print(type(list1))\n",
    "print(id(list1))"
   ]
  },
  {
   "cell_type": "code",
   "execution_count": 13,
   "metadata": {},
   "outputs": [
    {
     "name": "stdout",
     "output_type": "stream",
     "text": [
      "bada hai\n",
      "140703773031064\n"
     ]
    }
   ],
   "source": [
    "i=8\n",
    "j=4\n",
    "\n",
    "if i>j:\n",
    "    print(\"bada hai\")\n",
    "else:\n",
    "    print(\"chhota hai\")\n",
    "print(id(i))"
   ]
  },
  {
   "cell_type": "code",
   "execution_count": 14,
   "metadata": {},
   "outputs": [],
   "source": [
    "str2 = \"mai iss duniya ka papa hu\"\n",
    "str3 = \"stanny inki \\\"guddi\\\" tod de\"\n",
    "str1 = r'tu hai \\kaun be' # we can use double or sinle quotes as per convinence"
   ]
  },
  {
   "cell_type": "code",
   "execution_count": 15,
   "metadata": {},
   "outputs": [
    {
     "name": "stdout",
     "output_type": "stream",
     "text": [
      "tu hai \\kaun be\n",
      "mai iss duniya ka papa hu\n",
      "stanny inki \"guddi\" tod de\n"
     ]
    }
   ],
   "source": [
    "print(str1)\n",
    "print(str2)\n",
    "print(str3)"
   ]
  },
  {
   "cell_type": "code",
   "execution_count": 16,
   "metadata": {},
   "outputs": [
    {
     "data": {
      "text/plain": [
       "'MAI ISS DUNIYA KA PAPA HU'"
      ]
     },
     "execution_count": 16,
     "metadata": {},
     "output_type": "execute_result"
    }
   ],
   "source": [
    "str2.upper()\n",
    "#str3.lower()\n"
   ]
  },
  {
   "cell_type": "code",
   "execution_count": 17,
   "metadata": {},
   "outputs": [
    {
     "data": {
      "text/plain": [
       "'stanny inki \"gend\" tod de'"
      ]
     },
     "execution_count": 17,
     "metadata": {},
     "output_type": "execute_result"
    }
   ],
   "source": [
    "str3.replace(\"guddi\",\"gend\")"
   ]
  },
  {
   "cell_type": "code",
   "execution_count": 18,
   "metadata": {},
   "outputs": [
    {
     "data": {
      "text/plain": [
       "'seeedhemaut'"
      ]
     },
     "execution_count": 18,
     "metadata": {},
     "output_type": "execute_result"
    }
   ],
   "source": [
    "s1 =\"seeedhe\"\n",
    "s2 =\"maut\"\n",
    "s1+s2"
   ]
  },
  {
   "cell_type": "code",
   "execution_count": 20,
   "metadata": {},
   "outputs": [
    {
     "data": {
      "text/plain": [
       "False"
      ]
     },
     "execution_count": 20,
     "metadata": {},
     "output_type": "execute_result"
    }
   ],
   "source": [
    "s1<s2"
   ]
  },
  {
   "cell_type": "code",
   "execution_count": null,
   "metadata": {},
   "outputs": [],
   "source": [
    "s1*5"
   ]
  },
  {
   "cell_type": "code",
   "execution_count": 5,
   "metadata": {},
   "outputs": [
    {
     "name": "stdout",
     "output_type": "stream",
     "text": [
      "True\n",
      "False\n",
      "False\n"
     ]
    }
   ],
   "source": [
    "print(\"s\" in s1)\n",
    "print(\"a\" in s1)\n",
    "print(\"S\" in s1)"
   ]
  },
  {
   "cell_type": "code",
   "execution_count": 6,
   "metadata": {},
   "outputs": [
    {
     "data": {
      "text/plain": [
       "'h'"
      ]
     },
     "execution_count": 6,
     "metadata": {},
     "output_type": "execute_result"
    }
   ],
   "source": [
    "\n",
    "s1[5]"
   ]
  },
  {
   "cell_type": "code",
   "execution_count": 7,
   "metadata": {},
   "outputs": [
    {
     "data": {
      "text/plain": [
       "'eee'"
      ]
     },
     "execution_count": 7,
     "metadata": {},
     "output_type": "execute_result"
    }
   ],
   "source": [
    "s1[1:4]"
   ]
  },
  {
   "cell_type": "code",
   "execution_count": 21,
   "metadata": {},
   "outputs": [
    {
     "data": {
      "text/plain": [
       "'mai iss duniya ka papa hu'"
      ]
     },
     "execution_count": 21,
     "metadata": {},
     "output_type": "execute_result"
    }
   ],
   "source": [
    "str2[0:93] #bhai dega utna hi jitna uske pass  available hai"
   ]
  },
  {
   "cell_type": "code",
   "execution_count": null,
   "metadata": {},
   "outputs": [
    {
     "name": "stdout",
     "output_type": "stream",
     "text": [
      "Hi raaj\n"
     ]
    }
   ],
   "source": [
    "val =input(\"enter your name\")\n",
    "print(f\"Hi {val}\")"
   ]
  },
  {
   "cell_type": "code",
   "execution_count": null,
   "metadata": {},
   "outputs": [
    {
     "data": {
      "text/plain": [
       "0"
      ]
     },
     "execution_count": 14,
     "metadata": {},
     "output_type": "execute_result"
    }
   ],
   "source": [
    "a=1\n",
    "b=-1.3\n",
    "c=(a+b)\n",
    "round(c)\n"
   ]
  },
  {
   "cell_type": "code",
   "execution_count": 22,
   "metadata": {},
   "outputs": [
    {
     "name": "stdout",
     "output_type": "stream",
     "text": [
      "0b110\n",
      "0b100\n"
     ]
    }
   ],
   "source": [
    "a=6\n",
    "b=4\n",
    "print(bin(a))\n",
    "print(bin(b))"
   ]
  },
  {
   "cell_type": "code",
   "execution_count": 23,
   "metadata": {},
   "outputs": [
    {
     "name": "stdout",
     "output_type": "stream",
     "text": [
      "0b110\n"
     ]
    }
   ],
   "source": [
    "print(bin(a|b))"
   ]
  },
  {
   "cell_type": "code",
   "execution_count": 24,
   "metadata": {},
   "outputs": [
    {
     "name": "stdout",
     "output_type": "stream",
     "text": [
      "0b1\n"
     ]
    }
   ],
   "source": [
    "shifta= a>>2\n",
    "print(bin(shifta))"
   ]
  },
  {
   "cell_type": "code",
   "execution_count": 25,
   "metadata": {},
   "outputs": [
    {
     "data": {
      "text/plain": [
       "1"
      ]
     },
     "execution_count": 25,
     "metadata": {},
     "output_type": "execute_result"
    }
   ],
   "source": [
    "shifta"
   ]
  },
  {
   "cell_type": "code",
   "execution_count": 28,
   "metadata": {},
   "outputs": [
    {
     "name": "stdout",
     "output_type": "stream",
     "text": [
      "2\n",
      "5\n",
      "4\n",
      "6\n",
      "8\n",
      "7\n",
      "9\n",
      "3\n"
     ]
    }
   ],
   "source": [
    "list5 =[2,5,4,6,8,7,9,3]\n",
    "\n",
    "for e in list5:\n",
    "    print(e)"
   ]
  },
  {
   "cell_type": "code",
   "execution_count": 29,
   "metadata": {},
   "outputs": [
    {
     "name": "stdout",
     "output_type": "stream",
     "text": [
      "0\n",
      "1\n",
      "2\n",
      "3\n",
      "4\n",
      "5\n",
      "6\n",
      "7\n",
      "8\n",
      "9\n",
      "10\n",
      "11\n",
      "12\n",
      "13\n",
      "14\n",
      "15\n",
      "16\n",
      "17\n",
      "18\n",
      "19\n",
      "20\n",
      "21\n",
      "22\n",
      "23\n",
      "24\n"
     ]
    }
   ],
   "source": [
    "for i in range(0,25):\n",
    "    print(i)"
   ]
  },
  {
   "cell_type": "code",
   "execution_count": 31,
   "metadata": {},
   "outputs": [
    {
     "name": "stdout",
     "output_type": "stream",
     "text": [
      "a\n",
      "v\n",
      "a\n",
      "n\n",
      "t\n",
      "i\n",
      "k\n",
      "a\n",
      " \n",
      "n\n",
      "e\n",
      "g\n",
      "i\n",
      " \n",
      "n\n",
      "e\n",
      "g\n",
      "i\n"
     ]
    }
   ],
   "source": [
    "str4= \"avantika negi negi\"\n",
    "for i in range(0,len(str4)):\n",
    "    print(str4[i])"
   ]
  },
  {
   "cell_type": "code",
   "execution_count": 4,
   "metadata": {},
   "outputs": [
    {
     "name": "stdout",
     "output_type": "stream",
     "text": [
      "1\n",
      "2\n",
      "3\n",
      "4\n",
      "5\n",
      "6\n",
      "7\n",
      "8\n",
      "9\n"
     ]
    }
   ],
   "source": [
    "a=1\n",
    "b=10\n",
    "\n",
    "while a<b:\n",
    "  print(a)\n",
    "\n",
    "  a+=1\n",
    "  "
   ]
  },
  {
   "cell_type": "code",
   "execution_count": 7,
   "metadata": {},
   "outputs": [
    {
     "name": "stdout",
     "output_type": "stream",
     "text": [
      "1\n",
      "bokachoda\n",
      "2\n",
      "bokachoda\n",
      "3\n",
      "bokachoda\n",
      "4\n",
      "bokachoda\n",
      "5\n",
      "bokachoda\n",
      "6\n",
      "bokachoda\n",
      "7\n",
      "bas ho gaya\n"
     ]
    }
   ],
   "source": [
    "a=1\n",
    "b=100\n",
    "\n",
    "while a<b:\n",
    "  # count+=1\n",
    "   print(a)\n",
    "\n",
    "   a+=1\n",
    "\n",
    "   if a>7:\n",
    "     break\n",
    "   \n",
    "   print(\"bokachoda\")\n",
    "\n",
    "   #if count>500:\n",
    "   #break\n",
    "print(\"bas ho gaya\")"
   ]
  },
  {
   "cell_type": "code",
   "execution_count": 10,
   "metadata": {},
   "outputs": [
    {
     "name": "stdout",
     "output_type": "stream",
     "text": [
      "1\n",
      "bokachoda\n",
      "2\n",
      "bokachoda\n",
      "3\n",
      "bokachoda\n",
      "4\n",
      "bokachoda\n",
      "5\n",
      "bokachoda\n",
      "6\n",
      "bokachoda\n",
      "7\n",
      "8\n",
      "9\n",
      "10\n",
      "11\n",
      "12\n",
      "13\n",
      "14\n",
      "15\n",
      "16\n",
      "17\n",
      "18\n",
      "19\n",
      "20\n",
      "bas ho gaya\n"
     ]
    }
   ],
   "source": [
    "a=1\n",
    "b=100\n",
    "\n",
    "while True:\n",
    "  # count+=1\n",
    "   print(a)\n",
    "\n",
    "   a+=1\n",
    "\n",
    "   if a>20:\n",
    "      break\n",
    "   \n",
    "   if a>7:\n",
    "     continue\n",
    "   \n",
    "   print(\"bokachoda\")\n",
    "\n",
    "   #if count>500:\n",
    "   #break\n",
    "print(\"bas ho gaya\")"
   ]
  },
  {
   "cell_type": "code",
   "execution_count": 19,
   "metadata": {},
   "outputs": [
    {
     "name": "stdout",
     "output_type": "stream",
     "text": [
      "True\n"
     ]
    }
   ],
   "source": [
    "str1 = \"hello bsdl bol na\"\n",
    "str2 =\"BOl Na\"\n",
    "\n",
    "#print(str2 in str1)\n",
    "print(str2.upper() in str1.upper())  #membership function"
   ]
  },
  {
   "cell_type": "code",
   "execution_count": 38,
   "metadata": {},
   "outputs": [
    {
     "data": {
      "text/plain": [
       "[1, 2, 5, 7, 89, '69']"
      ]
     },
     "execution_count": 38,
     "metadata": {},
     "output_type": "execute_result"
    }
   ],
   "source": [
    "list2 =[1,2,5,7,89,'69']\n",
    "list2"
   ]
  },
  {
   "cell_type": "code",
   "execution_count": 23,
   "metadata": {},
   "outputs": [
    {
     "name": "stdout",
     "output_type": "stream",
     "text": [
      "1\n",
      "2\n",
      "69\n",
      "5\n",
      "7\n",
      "89\n"
     ]
    }
   ],
   "source": [
    "for i in list2:\n",
    "    print(i)\n"
   ]
  },
  {
   "cell_type": "code",
   "execution_count": 27,
   "metadata": {},
   "outputs": [
    {
     "name": "stdout",
     "output_type": "stream",
     "text": [
      "0\n",
      "1\n",
      "2\n",
      "3\n",
      "4\n"
     ]
    }
   ],
   "source": [
    "for i in range(0, 5):\n",
    "    print(i)"
   ]
  },
  {
   "cell_type": "code",
   "execution_count": 39,
   "metadata": {},
   "outputs": [
    {
     "ename": "TypeError",
     "evalue": "'list' object is not callable",
     "output_type": "error",
     "traceback": [
      "\u001b[1;31m---------------------------------------------------------------------------\u001b[0m",
      "\u001b[1;31mTypeError\u001b[0m                                 Traceback (most recent call last)",
      "Cell \u001b[1;32mIn[39], line 2\u001b[0m\n\u001b[0;32m      1\u001b[0m \u001b[38;5;28;01mfor\u001b[39;00m i \u001b[38;5;129;01min\u001b[39;00m \u001b[38;5;28mrange\u001b[39m(\u001b[38;5;241m0\u001b[39m,\u001b[38;5;28mlen\u001b[39m(list2)):\n\u001b[1;32m----> 2\u001b[0m     \u001b[38;5;28mprint\u001b[39m(\u001b[38;5;124mf\u001b[39m\u001b[38;5;124m\"\u001b[39m\u001b[38;5;124m at index \u001b[39m\u001b[38;5;130;01m\\t\u001b[39;00m\u001b[38;5;132;01m{\u001b[39;00mi\u001b[38;5;132;01m}\u001b[39;00m\u001b[38;5;124m \u001b[39m\u001b[38;5;130;01m\\n\u001b[39;00m\u001b[38;5;124m value is \u001b[39m\u001b[38;5;132;01m{\u001b[39;00m\u001b[43mlist2\u001b[49m\u001b[43m(\u001b[49m\u001b[43mi\u001b[49m\u001b[43m)\u001b[49m\u001b[38;5;132;01m}\u001b[39;00m\u001b[38;5;124m\"\u001b[39m)\n",
      "\u001b[1;31mTypeError\u001b[0m: 'list' object is not callable"
     ]
    }
   ],
   "source": [
    "for i in range(0,len(list2)):\n",
    "    print(f\" at index \\t{i} \\n value is {list2(i)}\")"
   ]
  },
  {
   "cell_type": "code",
   "execution_count": null,
   "metadata": {},
   "outputs": [],
   "source": [
    "list2 = {5,2,6,9}\n",
    "for i in (0,len(list2)):\n",
    "    print(i)"
   ]
  },
  {
   "cell_type": "code",
   "execution_count": 32,
   "metadata": {},
   "outputs": [
    {
     "data": {
      "text/plain": [
       "([[51, 61], [52, 62]], 2)"
      ]
     },
     "execution_count": 32,
     "metadata": {},
     "output_type": "execute_result"
    }
   ],
   "source": [
    "row1 =[51, 61]\n",
    "row2 = [52,62]\n",
    "matrix=[row1 ,row2]\n",
    "\n",
    "matrix ,len(matrix)"
   ]
  },
  {
   "cell_type": "code",
   "execution_count": 33,
   "metadata": {},
   "outputs": [
    {
     "data": {
      "text/plain": [
       "51"
      ]
     },
     "execution_count": 33,
     "metadata": {},
     "output_type": "execute_result"
    }
   ],
   "source": [
    "matrix[0][0]"
   ]
  },
  {
   "cell_type": "code",
   "execution_count": 37,
   "metadata": {},
   "outputs": [
    {
     "name": "stdout",
     "output_type": "stream",
     "text": [
      "2246777556608\n",
      "[51, 61]\n",
      "2246777556608\n",
      "[52, 62]\n"
     ]
    },
    {
     "data": {
      "text/plain": [
       "2"
      ]
     },
     "execution_count": 37,
     "metadata": {},
     "output_type": "execute_result"
    }
   ],
   "source": [
    "for i in matrix:\n",
    "    print(id(matrix))\n",
    "    print(i)\n",
    "len(matrix)\n"
   ]
  },
  {
   "cell_type": "code",
   "execution_count": 41,
   "metadata": {},
   "outputs": [],
   "source": [
    "def showdetails(val):\n",
    "    print(f\"value is {val} \\n  ID is {id(val)}\")"
   ]
  },
  {
   "cell_type": "code",
   "execution_count": 42,
   "metadata": {},
   "outputs": [
    {
     "name": "stdout",
     "output_type": "stream",
     "text": [
      "value is [1, 2, 5, 7, 89, '69'] \n",
      "  ID is 2246783138048\n"
     ]
    }
   ],
   "source": [
    "showdetails(list2)"
   ]
  },
  {
   "cell_type": "code",
   "execution_count": 43,
   "metadata": {},
   "outputs": [
    {
     "name": "stdout",
     "output_type": "stream",
     "text": [
      "value is [1000, 2, 5, 7, 89, '69'] \n",
      "  ID is 2246783138048\n"
     ]
    }
   ],
   "source": [
    "list2[0]=1000\n",
    "showdetails(list2)"
   ]
  },
  {
   "cell_type": "code",
   "execution_count": 66,
   "metadata": {},
   "outputs": [
    {
     "name": "stdout",
     "output_type": "stream",
     "text": [
      "[[1, 2, 3], [4, 5, 6], [7, 8, 9]]\n"
     ]
    }
   ],
   "source": [
    "listA =[[1,2,3],[4,5,6],[7,8,9]]\n",
    "print(listA)"
   ]
  },
  {
   "cell_type": "code",
   "execution_count": 73,
   "metadata": {},
   "outputs": [
    {
     "name": "stdout",
     "output_type": "stream",
     "text": [
      "[[1, 2, 3], [4, 5, 6], [7, 8, 9]]\n",
      "[[1, 2, 3], [4, 5, 6], [7, 8, 9]]\n",
      "2246777741952\n",
      "2246802897664\n"
     ]
    }
   ],
   "source": [
    "#shallow copy\n",
    "listB=listA.copy()\n",
    "print(listB)\n",
    "print(listA)\n",
    "print(id(listA))\n",
    "print(id(listB))"
   ]
  },
  {
   "cell_type": "code",
   "execution_count": 72,
   "metadata": {},
   "outputs": [
    {
     "name": "stdout",
     "output_type": "stream",
     "text": [
      "[[1, 2, 3], [4, 5, 6], [7, 8, 9]]\n",
      "[[1, 2, 3], [4, 5, 6], [7, 8, 9]]\n",
      "2246777741952\n",
      "2246802842688\n"
     ]
    }
   ],
   "source": [
    "#it is also shallow copy\n",
    "listB=list(listA)\n",
    "print(listB)\n",
    "print(listA)\n",
    "print(id(listA))\n",
    "print(id(listB))"
   ]
  },
  {
   "cell_type": "code",
   "execution_count": 79,
   "metadata": {},
   "outputs": [
    {
     "name": "stdout",
     "output_type": "stream",
     "text": [
      "[[1, 2, 3], [4, 5, 6], [7, 8, 9]]\n",
      "[[1, 2, 3], [4, 5, 6], [7, 8, 9]]\n",
      "2246777741952\n",
      "2246777741376\n"
     ]
    }
   ],
   "source": [
    "import copy\n",
    "listB =copy.deepcopy(listA)\n",
    "print(listB)\n",
    "print(listA)\n",
    "print(id(listA))\n",
    "print(id(listB))"
   ]
  },
  {
   "cell_type": "code",
   "execution_count": 1,
   "metadata": {},
   "outputs": [
    {
     "name": "stdout",
     "output_type": "stream",
     "text": [
      "['False', 'None', 'True', 'and', 'as', 'assert', 'async', 'await', 'break', 'class', 'continue', 'def', 'del', 'elif', 'else', 'except', 'finally', 'for', 'from', 'global', 'if', 'import', 'in', 'is', 'lambda', 'nonlocal', 'not', 'or', 'pass', 'raise', 'return', 'try', 'while', 'with', 'yield']\n"
     ]
    }
   ],
   "source": [
    "import keyword   \n",
    "print(keyword.kwlist)"
   ]
  },
  {
   "cell_type": "code",
   "execution_count": 8,
   "metadata": {},
   "outputs": [
    {
     "name": "stdout",
     "output_type": "stream",
     "text": [
      "result is 67\n"
     ]
    }
   ],
   "source": [
    "#initializing\n",
    "\n",
    "var1 = 12\n",
    "var2 = 45\n",
    "\n",
    "\n",
    "#defining the function \n",
    "\n",
    "def add(a,b,c,d,e):\n",
    "    res =a+b+c+d+e\n",
    "    return res\n",
    "\n",
    "\n",
    "\n",
    "#using function\n",
    "result =add(var1,var2,5,2,3)  # we can pass any data type as argument in a variable functio will treat every variable as an object\n",
    "print(f\"result is {result}\")"
   ]
  },
  {
   "cell_type": "markdown",
   "metadata": {},
   "source": [
    "write a function that takes two values and return the result"
   ]
  },
  {
   "cell_type": "code",
   "execution_count": 4,
   "metadata": {},
   "outputs": [
    {
     "name": "stdout",
     "output_type": "stream",
     "text": [
      "13\n"
     ]
    }
   ],
   "source": [
    "def taking(a , b):\n",
    "    c=a+b\n",
    "    print(c) \n",
    "\n",
    "taking(8 ,5)"
   ]
  },
  {
   "cell_type": "code",
   "execution_count": 12,
   "metadata": {},
   "outputs": [
    {
     "name": "stdout",
     "output_type": "stream",
     "text": [
      "HI Raj! How are you ?\n"
     ]
    }
   ],
   "source": [
    "def greet(name ,massage):\n",
    "    print(f\"HI {name} {massage}\")\n",
    "\n",
    "name = \"Raj!\"\n",
    "massage = \"How are you ?\"\n",
    "greet(name ,massage)\n",
    "# greet(name= \"Raj\" , massage= \"HOw are you\") #Another way to print"
   ]
  },
  {
   "cell_type": "code",
   "execution_count": 3,
   "metadata": {},
   "outputs": [
    {
     "name": "stdout",
     "output_type": "stream",
     "text": [
      "30\n",
      "20\n",
      "10\n"
     ]
    }
   ],
   "source": [
    "x =10   #Global variable\n",
    "\n",
    "def outer_function():\n",
    "    x = 20    #Enclosing variable\n",
    "    def inner_function():\n",
    "        x = 30  #Local variable\n",
    "        print(x)          # output : 30\n",
    "    inner_function()\n",
    "    print(x)               # output :20\n",
    "\n",
    "\n",
    "outer_function()\n",
    "print(x)       \n",
    "          #output = 10\n",
    "      "
   ]
  },
  {
   "cell_type": "code",
   "execution_count": 4,
   "metadata": {},
   "outputs": [],
   "source": [
    "counter = 0\n",
    "\n",
    "def increament():\n",
    "    global counter\n",
    "    counter += 1"
   ]
  },
  {
   "cell_type": "code",
   "execution_count": 5,
   "metadata": {},
   "outputs": [
    {
     "name": "stdout",
     "output_type": "stream",
     "text": [
      "1\n"
     ]
    }
   ],
   "source": [
    "increament()\n",
    "print(counter)"
   ]
  },
  {
   "cell_type": "code",
   "execution_count": 6,
   "metadata": {},
   "outputs": [],
   "source": [
    "def modify_immutable(x):\n",
    "    x+=1\n",
    "    print(f\"inside function : {x}\")"
   ]
  },
  {
   "cell_type": "code",
   "execution_count": 7,
   "metadata": {},
   "outputs": [
    {
     "name": "stdout",
     "output_type": "stream",
     "text": [
      "inside function : 7\n",
      "outside function : 6\n"
     ]
    }
   ],
   "source": [
    "a = 6\n",
    "modify_immutable(a)\n",
    "print(f\"outside function : {a}\")"
   ]
  },
  {
   "cell_type": "code",
   "execution_count": 8,
   "metadata": {},
   "outputs": [],
   "source": [
    "def modify_mutable(list):\n",
    "    list.append(7)\n",
    "    print(f\"inside function : {list}\")"
   ]
  },
  {
   "cell_type": "code",
   "execution_count": 9,
   "metadata": {},
   "outputs": [
    {
     "name": "stdout",
     "output_type": "stream",
     "text": [
      "inside function : [1, 2, 3, 7]\n",
      "outside function : [1, 2, 3, 7]\n"
     ]
    }
   ],
   "source": [
    "my_list = [1 ,2 , 3]\n",
    "modify_mutable(my_list)\n",
    "print(f\"outside function : {my_list}\")"
   ]
  },
  {
   "cell_type": "code",
   "execution_count": 13,
   "metadata": {},
   "outputs": [
    {
     "name": "stdout",
     "output_type": "stream",
     "text": [
      "25\n"
     ]
    }
   ],
   "source": [
    "def square(x):\n",
    "    return x*x\n",
    "\n",
    "f =square\n",
    "print(f(5))\n",
    "\n",
    "def apply_function(fun ,val):\n",
    "    return fun(val)\n",
    "\n"
   ]
  },
  {
   "cell_type": "code",
   "execution_count": 15,
   "metadata": {},
   "outputs": [
    {
     "name": "stdout",
     "output_type": "stream",
     "text": [
      "225\n"
     ]
    }
   ],
   "source": [
    "result = apply_function(square , 15)\n",
    "print(result)"
   ]
  },
  {
   "cell_type": "code",
   "execution_count": 16,
   "metadata": {},
   "outputs": [],
   "source": [
    "def double(x):\n",
    "\n",
    "    return x*2\n",
    "\n",
    "def triple(x):\n",
    "    return x*3\n",
    "\n",
    "def apply_operation(fun ,number):\n",
    "    return fun(number)"
   ]
  },
  {
   "cell_type": "code",
   "execution_count": 17,
   "metadata": {},
   "outputs": [
    {
     "name": "stdout",
     "output_type": "stream",
     "text": [
      "10\n",
      "15\n"
     ]
    }
   ],
   "source": [
    "print(apply_operation(double , 5))\n",
    "print(apply_operation(triple , 5))"
   ]
  },
  {
   "cell_type": "markdown",
   "metadata": {},
   "source": [
    "### lambda function ###"
   ]
  },
  {
   "cell_type": "markdown",
   "metadata": {},
   "source": [
    "**lambda function to add two numbers**"
   ]
  },
  {
   "cell_type": "code",
   "execution_count": 18,
   "metadata": {},
   "outputs": [
    {
     "name": "stdout",
     "output_type": "stream",
     "text": [
      "14\n"
     ]
    }
   ],
   "source": [
    "add =lambda a , b: a + b\n",
    "print(add(5,9))"
   ]
  },
  {
   "cell_type": "code",
   "execution_count": 19,
   "metadata": {},
   "outputs": [
    {
     "name": "stdout",
     "output_type": "stream",
     "text": [
      "[16, 25, 36, 225]\n"
     ]
    }
   ],
   "source": [
    "numbers = [4 , 5 ,6 , 15]\n",
    "squared = map(lambda x: x * x ,numbers)\n",
    "print(list(squared))"
   ]
  },
  {
   "cell_type": "markdown",
   "metadata": {},
   "source": [
    "**filter function : checks condition true then return it and if condition is false then ignores it move ahead**"
   ]
  },
  {
   "cell_type": "code",
   "execution_count": 22,
   "metadata": {},
   "outputs": [
    {
     "name": "stdout",
     "output_type": "stream",
     "text": [
      "[4, 6]\n"
     ]
    }
   ],
   "source": [
    "even_numbers = filter(lambda x: x % 2 == 0 , numbers)\n",
    "print(list(even_numbers))"
   ]
  },
  {
   "cell_type": "markdown",
   "metadata": {},
   "source": [
    "### write a function to multiply three numbers and return its result using both normal function and lambda function ###"
   ]
  },
  {
   "cell_type": "code",
   "execution_count": 20,
   "metadata": {},
   "outputs": [
    {
     "data": {
      "text/plain": [
       "60"
      ]
     },
     "execution_count": 20,
     "metadata": {},
     "output_type": "execute_result"
    }
   ],
   "source": [
    "def multiply(a , b ,c):\n",
    "    return (a*b*c)\n",
    "\n",
    "multiply( 5, 6 ,2)\n"
   ]
  },
  {
   "cell_type": "code",
   "execution_count": 21,
   "metadata": {},
   "outputs": [
    {
     "name": "stdout",
     "output_type": "stream",
     "text": [
      "60\n"
     ]
    }
   ],
   "source": [
    "multiply = lambda a, b ,c: a*b*c\n",
    "print(multiply(4,5,3))"
   ]
  },
  {
   "cell_type": "markdown",
   "metadata": {},
   "source": [
    "__creating a list of squares of even numbers from 0 to 9__"
   ]
  },
  {
   "cell_type": "code",
   "execution_count": 23,
   "metadata": {},
   "outputs": [],
   "source": [
    "squares = []\n",
    "for i in range(10):\n",
    "    if i % 2 == 0:\n",
    "        squares.append(i ** 2)"
   ]
  },
  {
   "cell_type": "markdown",
   "metadata": {},
   "source": [
    "__creating a list of squares of even numbers from 0 to 9 using list comprehension__"
   ]
  },
  {
   "cell_type": "code",
   "execution_count": 24,
   "metadata": {},
   "outputs": [],
   "source": [
    "squares = [ i**2 for i in range(10) if i % 2 == 0]"
   ]
  },
  {
   "cell_type": "markdown",
   "metadata": {},
   "source": [
    "### write a program that takes directory address from user and returns a list of file names in that directory ###\n",
    "__you can use os module to perform these actions__"
   ]
  },
  {
   "cell_type": "code",
   "execution_count": 2,
   "metadata": {},
   "outputs": [],
   "source": [
    "import os\n",
    "\n",
    "#help(os)\n",
    "\n",
    "address = input(\"Enter location\")\n",
    "#address = \"C:\\Users\\GODFATHER07\\Desktop\\py notebook\""
   ]
  },
  {
   "cell_type": "code",
   "execution_count": 3,
   "metadata": {},
   "outputs": [
    {
     "data": {
      "text/plain": [
       "['mycllass.ipynb', 'Python assignment1.ipynb']"
      ]
     },
     "execution_count": 3,
     "metadata": {},
     "output_type": "execute_result"
    }
   ],
   "source": [
    "os.chdir(address)\n",
    "\n",
    "list_of_files = os.listdir()\n",
    "list_of_files"
   ]
  },
  {
   "cell_type": "markdown",
   "metadata": {},
   "source": [
    "###  Write a function that generates email using sap id ###"
   ]
  },
  {
   "cell_type": "code",
   "execution_count": 5,
   "metadata": {},
   "outputs": [],
   "source": [
    "#sap id is\n",
    "#590011165\n",
    "#email\n",
    "#590011165@stu.upes.ac.in\n",
    "\n",
    "#using\n",
    "#1. functions/for loop\n",
    "#2. map/filter and lambda\n",
    "#3. list comprehension\n",
    "\n",
    " "
   ]
  },
  {
   "cell_type": "code",
   "execution_count": 7,
   "metadata": {},
   "outputs": [
    {
     "data": {
      "text/plain": [
       "['123@stu.upes.ac.in',\n",
       " '23456@stu.upes.ac.in',\n",
       " '54879@stu.upes.ac.in',\n",
       " '133165@stu.upes.ac.in']"
      ]
     },
     "execution_count": 7,
     "metadata": {},
     "output_type": "execute_result"
    }
   ],
   "source": [
    "#  1st logic using function\n",
    " \n",
    "sap_ids = [123 , 23456 ,54879 , 133165]\n",
    "\n",
    "def id2email(id):\n",
    "    return str(id)  + \"@stu.upes.ac.in\"\n",
    "\n",
    "def sap_ids_to_emails(sap_ids):\n",
    "    emails = []\n",
    "    for id in sap_ids:\n",
    "        email = id2email(id)\n",
    "        emails.append(email)\n",
    "        \n",
    "    return emails\n",
    "\n",
    "list_of_emails = sap_ids_to_emails(sap_ids)\n",
    "list_of_emails"
   ]
  },
  {
   "cell_type": "code",
   "execution_count": 11,
   "metadata": {},
   "outputs": [
    {
     "data": {
      "text/plain": [
       "['123@stu.upes.ac.in',\n",
       " '23456@stu.upes.ac.in',\n",
       " '54879@stu.upes.ac.in',\n",
       " '133165@stu.upes.ac.in']"
      ]
     },
     "execution_count": 11,
     "metadata": {},
     "output_type": "execute_result"
    }
   ],
   "source": [
    "#2nd logic using map/list and lambda function\n",
    "\n",
    "sap_ids = [123 , 23456 ,54879 , 133165]\n",
    "\n",
    "def id2email(id):\n",
    "    return str(id)  + \"@stu.upes.ac.in\"\n",
    "\n",
    "#list_of_emails = map(id2email,sap_ids)  #for python2\n",
    "\n",
    "list_of_emails = list(map(id2email,sap_ids)) #for python3\n",
    "list_of_emails"
   ]
  },
  {
   "cell_type": "code",
   "execution_count": 13,
   "metadata": {},
   "outputs": [
    {
     "data": {
      "text/plain": [
       "['123@stu.upes.ac.in',\n",
       " '23456@stu.upes.ac.in',\n",
       " '54879@stu.upes.ac.in',\n",
       " '133165@stu.upes.ac.in']"
      ]
     },
     "execution_count": 13,
     "metadata": {},
     "output_type": "execute_result"
    }
   ],
   "source": [
    "sap_ids = [123 , 23456 ,54879 , 133165]\n",
    "\n",
    "list_of_emails = list(map(lambda id: str(id) +  \"@stu.upes.ac.in\" ,sap_ids )) \n",
    "list_of_emails"
   ]
  },
  {
   "cell_type": "code",
   "execution_count": 14,
   "metadata": {},
   "outputs": [
    {
     "data": {
      "text/plain": [
       "[' 123stu.upes.ac.in',\n",
       " ' 23456stu.upes.ac.in',\n",
       " ' 54879stu.upes.ac.in',\n",
       " ' 133165stu.upes.ac.in']"
      ]
     },
     "execution_count": 14,
     "metadata": {},
     "output_type": "execute_result"
    }
   ],
   "source": [
    "#3rd using list comprehension \n",
    "\n",
    "sap_ids = [123 , 23456 ,54879 , 133165]\n",
    "\n",
    "list_of_emails = [f\" {id}stu.upes.ac.in\" for id in sap_ids]\n",
    "list_of_emails"
   ]
  },
  {
   "cell_type": "code",
   "execution_count": null,
   "metadata": {},
   "outputs": [],
   "source": []
  }
 ],
 "metadata": {
  "kernelspec": {
   "display_name": "Python 3",
   "language": "python",
   "name": "python3"
  },
  "language_info": {
   "codemirror_mode": {
    "name": "ipython",
    "version": 3
   },
   "file_extension": ".py",
   "mimetype": "text/x-python",
   "name": "python",
   "nbconvert_exporter": "python",
   "pygments_lexer": "ipython3",
   "version": "3.12.4"
  }
 },
 "nbformat": 4,
 "nbformat_minor": 2
}
