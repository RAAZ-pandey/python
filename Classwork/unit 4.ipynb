{
 "cells": [
  {
   "cell_type": "code",
   "execution_count": 4,
   "metadata": {},
   "outputs": [
    {
     "name": "stdout",
     "output_type": "stream",
     "text": [
      "Match found: hello\n"
     ]
    }
   ],
   "source": [
    "import re\n",
    "\n",
    "pattern = r\"hello\"\n",
    "text = \"hello world\"\n",
    "match = re.search(pattern, text)\n",
    "print(\"Match found:\", match.group() if match else \"No match\")\n"
   ]
  },
  {
   "cell_type": "code",
   "execution_count": 5,
   "metadata": {},
   "outputs": [
    {
     "name": "stdout",
     "output_type": "stream",
     "text": [
      "Match found: cat\n"
     ]
    }
   ],
   "source": [
    "pattern = r\"cat\"\n",
    "text = \"The cat sat on the mat.\"\n",
    "match = re.search(pattern, text)\n",
    "print(\"Match found:\", match.group() if match else \"No match\")\n"
   ]
  },
  {
   "cell_type": "code",
   "execution_count": 6,
   "metadata": {},
   "outputs": [
    {
     "name": "stdout",
     "output_type": "stream",
     "text": [
      "Match found: cat\n"
     ]
    }
   ],
   "source": [
    "pattern = r\"c.t\"\n",
    "text = \"The cat sat.\"\n",
    "match = re.search(pattern, text)\n",
    "print(\"Match found:\", match.group() if match else \"No match\")\n"
   ]
  },
  {
   "cell_type": "code",
   "execution_count": 7,
   "metadata": {},
   "outputs": [
    {
     "name": "stdout",
     "output_type": "stream",
     "text": [
      "Matches found: ['ello', 'orld']\n"
     ]
    }
   ],
   "source": [
    "pattern = r\"[a-z]+\"\n",
    "text = \"Hello World 123\"\n",
    "matches = re.findall(pattern, text)\n",
    "print(\"Matches found:\", matches)\n"
   ]
  },
  {
   "cell_type": "code",
   "execution_count": 8,
   "metadata": {},
   "outputs": [
    {
     "name": "stdout",
     "output_type": "stream",
     "text": [
      "Matches found: ['123', '456', '789']\n"
     ]
    }
   ],
   "source": [
    "pattern = r\"\\d{3}\"\n",
    "text = \"My number is 1234567890\"\n",
    "matches = re.findall(pattern, text)\n",
    "print(\"Matches found:\", matches)\n"
   ]
  },
  {
   "cell_type": "code",
   "execution_count": 9,
   "metadata": {},
   "outputs": [
    {
     "name": "stdout",
     "output_type": "stream",
     "text": [
      "Match found: hello\n"
     ]
    }
   ],
   "source": [
    "pattern = r\"h.llo\"\n",
    "text = \"hello\"\n",
    "match = re.search(pattern, text)\n",
    "print(\"Match found:\", match.group() if match else \"No match\")\n"
   ]
  },
  {
   "cell_type": "code",
   "execution_count": 12,
   "metadata": {},
   "outputs": [
    {
     "name": "stdout",
     "output_type": "stream",
     "text": [
      "Area code: 123\n",
      "Local code: 45\n"
     ]
    }
   ],
   "source": [
    "pattern = r\"(\\d{3})-(\\d{2})\"\n",
    "text = \"Phone number: 123-45\"\n",
    "match = re.search(pattern, text)\n",
    "print(\"Area code:\", match.group(1))\n",
    "print(\"Local code:\", match.group(2))\n"
   ]
  },
  {
   "cell_type": "code",
   "execution_count": 13,
   "metadata": {},
   "outputs": [
    {
     "name": "stdout",
     "output_type": "stream",
     "text": [
      "Match at start: Hello\n",
      "Match at end: world\n"
     ]
    }
   ],
   "source": [
    "pattern = r\"^Hello\"\n",
    "text = \"Hello world\"\n",
    "match = re.search(pattern, text)\n",
    "print(\"Match at start:\", match.group() if match else \"No match\")\n",
    "\n",
    "pattern = r\"world$\"\n",
    "match = re.search(pattern, text)\n",
    "print(\"Match at end:\", match.group() if match else \"No match\")\n"
   ]
  },
  {
   "cell_type": "code",
   "execution_count": 14,
   "metadata": {},
   "outputs": [
    {
     "name": "stdout",
     "output_type": "stream",
     "text": [
      "Matched text: world\n",
      "Start position: 6\n",
      "End position: 11\n"
     ]
    }
   ],
   "source": [
    "pattern = r\"world\"\n",
    "text = \"Hello world\"\n",
    "match = re.search(pattern, text)\n",
    "print(\"Matched text:\", match.group())\n",
    "print(\"Start position:\", match.start())\n",
    "print(\"End position:\", match.end())\n"
   ]
  },
  {
   "cell_type": "code",
   "execution_count": 15,
   "metadata": {},
   "outputs": [
    {
     "name": "stdout",
     "output_type": "stream",
     "text": [
      "After substitution: The dog sat on the mat.\n"
     ]
    }
   ],
   "source": [
    "pattern = r\"cat\"\n",
    "text = \"The cat sat on the mat.\"\n",
    "result = re.sub(pattern, \"dog\", text)\n",
    "print(\"After substitution:\", result)\n"
   ]
  },
  {
   "cell_type": "code",
   "execution_count": 16,
   "metadata": {},
   "outputs": [
    {
     "name": "stdout",
     "output_type": "stream",
     "text": [
      "Split result: ['Split', 'this', 'sentence', 'by', 'spaces']\n"
     ]
    }
   ],
   "source": [
    "pattern = r\"\\s+\"\n",
    "text = \"Split this sentence by spaces\"\n",
    "result = re.split(pattern, text)\n",
    "print(\"Split result:\", result)\n"
   ]
  },
  {
   "cell_type": "code",
   "execution_count": 17,
   "metadata": {},
   "outputs": [
    {
     "name": "stdout",
     "output_type": "stream",
     "text": [
      "Matches: ['123', '456']\n"
     ]
    }
   ],
   "source": [
    "pattern = re.compile(r\"\\d+\")\n",
    "text = \"123 apples, 456 bananas\"\n",
    "matches = pattern.findall(text)\n",
    "print(\"Matches:\", matches)\n"
   ]
  },
  {
   "cell_type": "code",
   "execution_count": 18,
   "metadata": {},
   "outputs": [
    {
     "name": "stdout",
     "output_type": "stream",
     "text": [
      "Case-insensitive match: Hello\n"
     ]
    }
   ],
   "source": [
    "pattern = r\"hello\"\n",
    "text = \"Hello\"\n",
    "match = re.search(pattern, text, re.IGNORECASE)\n",
    "print(\"Case-insensitive match:\", match.group() if match else \"No match\")\n"
   ]
  },
  {
   "cell_type": "code",
   "execution_count": 20,
   "metadata": {},
   "outputs": [
    {
     "name": "stdout",
     "output_type": "stream",
     "text": [
      "[('15', '04', '2023'), ('23', '08', '2021'), ('01', '01', '2022')]\n"
     ]
    }
   ],
   "source": [
    "import re\n",
    "\n",
    "def extract_dates(text):\n",
    "    pattern = r'\\b(\\d{2})-(\\d{2})-(\\d{4})\\b'\n",
    "    return re.findall(pattern, text)\n",
    "\n",
    "text = \"Important dates: 15-04-2023, 23-08-2021 and 01-01-2022.\"\n",
    "print(extract_dates(text))  # [('15', '04', '2023'), ('23', '08', '2021'), ('01', '01', '2022')]\n",
    "\n",
    "\n",
    "\n",
    "\n"
   ]
  },
  {
   "cell_type": "code",
   "execution_count": 21,
   "metadata": {},
   "outputs": [
    {
     "name": "stdout",
     "output_type": "stream",
     "text": [
      "This is a test.\n"
     ]
    }
   ],
   "source": [
    "import re\n",
    "\n",
    "def normalize_spaces(text):\n",
    "    return re.sub(r'\\s+', ' ', text).strip()\n",
    "\n",
    "\n",
    "text = \"This   is   a   test.   \"\n",
    "print(normalize_spaces(text))  # \"This is a test.\""
   ]
  },
  {
   "cell_type": "code",
   "execution_count": 22,
   "metadata": {},
   "outputs": [
    {
     "name": "stdout",
     "output_type": "stream",
     "text": [
      "['(123) 456-7890', '(987) 654-3210']\n"
     ]
    }
   ],
   "source": [
    "import re\n",
    "\n",
    "def find_phone_numbers(text):\n",
    "    pattern = r'\\(\\d{3}\\) \\d{3}-\\d{4}'\n",
    "    return re.findall(pattern, text)\n",
    "\n",
    "text = \"Contact me at (123) 456-7890 or (987) 654-3210.\"\n",
    "print(find_phone_numbers(text))  # ['(123) 456-7890', '(987) 654-3210']\n",
    "\n"
   ]
  },
  {
   "cell_type": "code",
   "execution_count": 23,
   "metadata": {},
   "outputs": [
    {
     "name": "stdout",
     "output_type": "stream",
     "text": [
      "[('15', '04', '2023'), ('23', '08', '2021'), ('01', '01', '2022')]\n"
     ]
    }
   ],
   "source": [
    "import re\n",
    "\n",
    "def extract_dates(text):\n",
    "    pattern = r'\\b(\\d{2})-(\\d{2})-(\\d{4})\\b'\n",
    "    return re.findall(pattern, text)\n",
    "\n",
    "\n",
    "\n",
    "\n",
    "text = \"Important dates: 15-04-2023, 23-08-2021 and 01-01-2022.\"\n",
    "print(extract_dates(text))  # [('15', '04', '2023'), ('23', '08', '2021'), ('01', '01', '2022')]\n",
    "\n"
   ]
  },
  {
   "cell_type": "code",
   "execution_count": 24,
   "metadata": {},
   "outputs": [
    {
     "name": "stdout",
     "output_type": "stream",
     "text": [
      "This is a test.\n"
     ]
    }
   ],
   "source": [
    "import re\n",
    "\n",
    "def normalize_spaces(text):\n",
    "    return re.sub(r'\\s+', ' ', text).strip()\n",
    "\n",
    "text = \"This   is   a   test.   \"\n",
    "print(normalize_spaces(text))  # \"This is a test.\"\n"
   ]
  },
  {
   "cell_type": "code",
   "execution_count": 25,
   "metadata": {},
   "outputs": [
    {
     "name": "stdout",
     "output_type": "stream",
     "text": [
      "['(123) 456-7890', '(987) 654-3210']\n"
     ]
    }
   ],
   "source": [
    "import re\n",
    "\n",
    "def find_phone_numbers(text):\n",
    "    pattern = r'\\(\\d{3}\\) \\d{3}-\\d{4}'\n",
    "    return re.findall(pattern, text)\n",
    "\n",
    "text = \"Contact me at (123) 456-7890 or (987) 654-3210.\"\n",
    "print(find_phone_numbers(text))  # ['(123) 456-7890', '(987) 654-3210']\n"
   ]
  },
  {
   "cell_type": "code",
   "execution_count": null,
   "metadata": {},
   "outputs": [],
   "source": []
  }
 ],
 "metadata": {
  "kernelspec": {
   "display_name": "Python 3",
   "language": "python",
   "name": "python3"
  },
  "language_info": {
   "codemirror_mode": {
    "name": "ipython",
    "version": 3
   },
   "file_extension": ".py",
   "mimetype": "text/x-python",
   "name": "python",
   "nbconvert_exporter": "python",
   "pygments_lexer": "ipython3",
   "version": "3.12.4"
  }
 },
 "nbformat": 4,
 "nbformat_minor": 2
}
