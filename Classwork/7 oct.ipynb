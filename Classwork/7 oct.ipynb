{
 "cells": [
  {
   "cell_type": "markdown",
   "metadata": {},
   "source": [
    "  #### Q .  wap  to given data  of points which  x and y co-ordinates are given , those points are (1,2)   (1,3)  (2,4)   (5,7) these are co-ordinates of 4 pointsin 2D and its  origin position is (0,0)**\n",
    ">write functions to estimate distance between two points\n",
    "\n",
    ">write function to estimate position of points in polar co-ordinates\n",
    "\n",
    ">write function to move points when displacement is given"
   ]
  },
  {
   "cell_type": "code",
   "execution_count": 9,
   "metadata": {},
   "outputs": [
    {
     "name": "stdout",
     "output_type": "stream",
     "text": [
      "The distance between points (1, 2) and (2, 3) is 1.4142135623730951\n"
     ]
    }
   ],
   "source": [
    "def distance(x1 ,y1 ,x2, y2):\n",
    "    sq_distance = (x2-x1)**2 + (y2 -y1)**2\n",
    "    total_distance = sq_distance**(1/2)\n",
    "    return total_distance\n",
    "\n",
    "point1 = (1, 2)\n",
    "point2 = (2, 3)\n",
    "dist = distance(point1[0], point1[1], point2[0], point2[1])\n",
    "print(f\"The distance between points {point1} and {point2} is {dist }\")"
   ]
  },
  {
   "cell_type": "code",
   "execution_count": null,
   "metadata": {},
   "outputs": [],
   "source": []
  }
 ],
 "metadata": {
  "kernelspec": {
   "display_name": "Python 3",
   "language": "python",
   "name": "python3"
  },
  "language_info": {
   "codemirror_mode": {
    "name": "ipython",
    "version": 3
   },
   "file_extension": ".py",
   "mimetype": "text/x-python",
   "name": "python",
   "nbconvert_exporter": "python",
   "pygments_lexer": "ipython3",
   "version": "3.12.4"
  }
 },
 "nbformat": 4,
 "nbformat_minor": 2
}
