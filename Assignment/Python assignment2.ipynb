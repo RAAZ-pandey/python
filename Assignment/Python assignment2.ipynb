{
 "cells": [
  {
   "cell_type": "markdown",
   "metadata": {},
   "source": [
    "### Python Assignment 2 ###"
   ]
  },
  {
   "cell_type": "markdown",
   "metadata": {},
   "source": [
    "__1. Basic Fuction Implementation:__"
   ]
  },
  {
   "cell_type": "code",
   "execution_count": 2,
   "metadata": {},
   "outputs": [
    {
     "name": "stdout",
     "output_type": "stream",
     "text": [
      "Hello, pratik!\n",
      "welcome, rajkumar!\n"
     ]
    }
   ],
   "source": [
    "def greet(name , greeting=\"Hello\"):\n",
    "    return f\"{greeting}, {name}!\"\n",
    "\n",
    "print(greet(\"pratik\"))\n",
    "print(greet(\"rajkumar\" , \"welcome\"))\n"
   ]
  },
  {
   "cell_type": "markdown",
   "metadata": {},
   "source": [
    "in above program :\n",
    "->  **greet** function takes two arguments: **name** and **greeting**, with greeting having a default value of “Hello” as asked in question."
   ]
  },
  {
   "cell_type": "markdown",
   "metadata": {},
   "source": [
    "**2. Named Arguments:**"
   ]
  },
  {
   "cell_type": "code",
   "execution_count": 4,
   "metadata": {},
   "outputs": [
    {
     "name": "stdout",
     "output_type": "stream",
     "text": [
      "name: rashmi, age: 18, city: dehradun\n",
      "name: Rajkumar, age: 22, city: patna\n"
     ]
    }
   ],
   "source": [
    "def create_profile(*,name , age=18, city):\n",
    "    return f\"name: {name}, age: {age}, city: {city}\"\n",
    "\n",
    "print(create_profile(name=\"rashmi\", city=\"dehradun\"))\n",
    "print(create_profile(name=\"Rajkumar\", age=22, city=\"patna\"))\n"
   ]
  },
  {
   "cell_type": "markdown",
   "metadata": {},
   "source": [
    "> the **create_profile** function taes **name** , **age** , and **city** as named arguments.\n",
    ">the **age** argument has a default value of 18."
   ]
  },
  {
   "cell_type": "markdown",
   "metadata": {},
   "source": [
    "***3. Using args and Kwargs***"
   ]
  },
  {
   "cell_type": "code",
   "execution_count": 8,
   "metadata": {},
   "outputs": [
    {
     "name": "stdout",
     "output_type": "stream",
     "text": [
      "Sum of numbers: 69\n",
      "Keyword arguments: {'name': 'Alice', 'age': 25, 'city': 'New York'}\n"
     ]
    }
   ],
   "source": [
    "def sum_numbers(*args, **Kwargs):\n",
    "    total = sum(arg for arg in args if isinstance(arg,(int,float)))\n",
    "    return total, Kwargs\n",
    "\n",
    "sum_result, kwarg_dict = sum_numbers(80, -18, 7, name=\"Rajkumar\", age=22, city=\"patna\")\n",
    "print(f\"Sum of numbers: {sum_result}\")\n",
    "print(f\"Keyword arguments: {kwarg_dict}\")"
   ]
  },
  {
   "cell_type": "markdown",
   "metadata": {},
   "source": [
    "> The **sum_numbers** function takes any number of positional arguments __(*args)__  and keyword arguments __(**kwargs)__\n",
    "> It calculates the sum of all positional arguments that are numbers (integers or floats)."
   ]
  },
  {
   "cell_type": "markdown",
   "metadata": {},
   "source": [
    "***4. Lambdas and Map:***"
   ]
  },
  {
   "cell_type": "code",
   "execution_count": 9,
   "metadata": {},
   "outputs": [
    {
     "name": "stdout",
     "output_type": "stream",
     "text": [
      "[1, 4, 9, 16, 25]\n"
     ]
    }
   ],
   "source": [
    "def square_elements(numbers):\n",
    "    return list(map(lambda x: x ** 2, numbers))\n",
    "\n",
    "\n",
    "numbers = [1, 2, 3, 4, 5]\n",
    "squared_numbers = square_elements(numbers)\n",
    "print(squared_numbers)"
   ]
  },
  {
   "cell_type": "markdown",
   "metadata": {},
   "source": [
    ">**The square_elements** function takes a list of numbers as input.\n",
    "\n",
    ">It uses **map** with a **lambda** function to square each element in the list."
   ]
  },
  {
   "cell_type": "markdown",
   "metadata": {},
   "source": [
    "***5. Filter and Lambdas***"
   ]
  },
  {
   "cell_type": "code",
   "execution_count": 12,
   "metadata": {},
   "outputs": [
    {
     "name": "stdout",
     "output_type": "stream",
     "text": [
      "[2, 4, 6, 8, 10]\n"
     ]
    }
   ],
   "source": [
    "def odd_numbers(numbers):\n",
    "    return list(filter(lambda x: x % 2 == 0, numbers))\n",
    "\n",
    "\n",
    "numbers = [1, 2, 3, 4, 5, 6, 7, 8, 9, 10]\n",
    "filtered_numbers = odd_numbers(numbers)\n",
    "print(filtered_numbers)"
   ]
  },
  {
   "cell_type": "markdown",
   "metadata": {},
   "source": [
    "> The **odd_numbers** function takes a list of numbers as input.\n",
    "\n",
    "> It uses **filter** with a **lambda** function to keep only the even numbers (i.e., numbers where x % 2 == 0)."
   ]
  },
  {
   "cell_type": "markdown",
   "metadata": {},
   "source": [
    "***6. Basics List Comprehension:***"
   ]
  },
  {
   "cell_type": "code",
   "execution_count": 14,
   "metadata": {},
   "outputs": [
    {
     "name": "stdout",
     "output_type": "stream",
     "text": [
      "[0, 1, 4, 9, 16]\n"
     ]
    }
   ],
   "source": [
    "squared_numbers = [x ** 2 for x in range(5)]\n",
    "print(squared_numbers)"
   ]
  },
  {
   "cell_type": "markdown",
   "metadata": {},
   "source": [
    "> The list comprehension  __[x ** 2 for x in range()]__ iterates over each element **x** in the list  and computes its square.\n",
    "\n",
    "> The result is a new list **squared_numbers** containing the squares of the original numbers."
   ]
  },
  {
   "cell_type": "markdown",
   "metadata": {},
   "source": [
    "***7. List Comprehension With Condition:***"
   ]
  },
  {
   "cell_type": "code",
   "execution_count": 15,
   "metadata": {},
   "outputs": [
    {
     "name": "stdout",
     "output_type": "stream",
     "text": [
      "[2, 4, 6, 8, 10, 12, 14, 16, 18, 20]\n"
     ]
    }
   ],
   "source": [
    "even_numbers = [x for x in range(1, 21) if x % 2 == 0]\n",
    "print(even_numbers)"
   ]
  },
  {
   "cell_type": "markdown",
   "metadata": {},
   "source": [
    "> The list comprehension __[x for x in range(1, 21) if x % 2 == 0]__ iterates over each number x in the range from 1 to 20.\n",
    "\n",
    "> It includes only the numbers that are even (i.e., x % 2 == 0)."
   ]
  },
  {
   "cell_type": "markdown",
   "metadata": {},
   "source": [
    "***8. Using os and time Modules***"
   ]
  },
  {
   "cell_type": "code",
   "execution_count": 16,
   "metadata": {},
   "outputs": [
    {
     "name": "stdout",
     "output_type": "stream",
     "text": [
      "Directory 'test_folder' created.\n",
      "Directory 'test_folder' deleted.\n"
     ]
    }
   ],
   "source": [
    "import os\n",
    "import time\n",
    "\n",
    "def file_operations():\n",
    "    # Create a directory named \"test_folder\"\n",
    "    os.makedirs(\"test_folder\")\n",
    "    print(\"Directory 'test_folder' creat ho gaya\")\n",
    "    \n",
    "    # Pause the execution for 3 seconds\n",
    "    time.sleep(3)\n",
    "    \n",
    "    # Delete the directory named \"test_folder\"\n",
    "    os.rmdir(\"test_folder\")\n",
    "    print(\"Directory 'test_folder' delete ho gaya\")\n",
    "\n",
    "# Example usage\n",
    "file_operations()"
   ]
  },
  {
   "cell_type": "markdown",
   "metadata": {},
   "source": [
    "\n",
    "> __os.makedirs(\"test_folder\")__ creates a directory named “test_folder”.\n",
    "\n",
    "> __time.sleep(3)__ pauses the execution for 3 seconds.\n",
    "\n",
    "> __os.rmdir(\"test_folder\")__ deletes the directory named “test_folder”"
   ]
  },
  {
   "cell_type": "markdown",
   "metadata": {},
   "source": [
    "***9. Importing Specific Functions:***"
   ]
  },
  {
   "cell_type": "code",
   "execution_count": 17,
   "metadata": {},
   "outputs": [
    {
     "name": "stdout",
     "output_type": "stream",
     "text": [
      "Paused execution...\n"
     ]
    }
   ],
   "source": [
    "from time import sleep as pause\n",
    "\n",
    "# Pause execution for 2 seconds\n",
    "pause(2)\n",
    "\n",
    "# Print message\n",
    "print(\"Paused execution...\")"
   ]
  },
  {
   "cell_type": "markdown",
   "metadata": {},
   "source": [
    "> __from time import sleep as pause__ imports the __sleep__ function from the )__time__ module and renames it to __pause__.\n",
    "\n",
    "> **pause(2)** pauses the execution for 2 seconds.\n",
    "\n",
    "> **print(\"Paused execution...\")** prints the message after the pause."
   ]
  },
  {
   "cell_type": "markdown",
   "metadata": {},
   "source": [
    "***10. Recursive Function with *args and kwargs(Flattening a List):***"
   ]
  },
  {
   "cell_type": "code",
   "execution_count": 19,
   "metadata": {},
   "outputs": [
    {
     "name": "stdout",
     "output_type": "stream",
     "text": [
      "[11, 12, 13, 14, 15, 16, 17, 18, 19]\n"
     ]
    }
   ],
   "source": [
    "def flatten_list(nested_list, *args, **kwargs):\n",
    "    flat_list = []\n",
    "    for item in nested_list:\n",
    "        if isinstance(item, list):\n",
    "            flat_list.extend(flatten_list(item, *args, **kwargs))\n",
    "        else:\n",
    "            flat_list.append(item)\n",
    "    return flat_list\n",
    "\n",
    "# Example usage\n",
    "nested_list = [11, [12, [13, 14], 15], 16, [17, [18, 19]]]\n",
    "flattened = flatten_list(nested_list)\n",
    "print(flattened)"
   ]
  },
  {
   "cell_type": "markdown",
   "metadata": {},
   "source": [
    ">**flatten_list** takes a **nested_list** and uses __*args__ and __**kwargs__ to allow for additional arguments if needed.\n",
    "\n",
    "> It initializes an empty list __flat_list__.\n",
    "\n",
    "> It iterates over each __item__ in __nested_list__.\n",
    "\n",
    "   > If __item__ is a list, it recursively calls **flatten_list** to flatten   the sub-list and extends flat_list with the result.\n",
    "   \n",
    "    > If **item** is not a list, it appends **item** to **flat_list**.\n",
    "\n",
    ">The function returns the flattened list."
   ]
  }
 ],
 "metadata": {
  "kernelspec": {
   "display_name": "Python 3",
   "language": "python",
   "name": "python3"
  },
  "language_info": {
   "codemirror_mode": {
    "name": "ipython",
    "version": 3
   },
   "file_extension": ".py",
   "mimetype": "text/x-python",
   "name": "python",
   "nbconvert_exporter": "python",
   "pygments_lexer": "ipython3",
   "version": "3.12.4"
  }
 },
 "nbformat": 4,
 "nbformat_minor": 2
}
