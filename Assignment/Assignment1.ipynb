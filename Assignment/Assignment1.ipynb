{
 "cells": [
  {
   "cell_type": "markdown",
   "metadata": {},
   "source": [
    "### Assignment 1 ###"
   ]
  },
  {
   "cell_type": "markdown",
   "metadata": {},
   "source": [
    "**Part 1 : Python Installation and Execution** "
   ]
  },
  {
   "cell_type": "markdown",
   "metadata": {},
   "source": [
    "![screenshot of output](picc.png)"
   ]
  },
  {
   "cell_type": "code",
   "execution_count": 1,
   "metadata": {},
   "outputs": [
    {
     "name": "stdout",
     "output_type": "stream",
     "text": [
      "Rajkumar pandey\n",
      "course - MCA \n",
      "python version :  3.12.4 (tags/v3.12.4:8e8a4ba, Jun  6 2024, 19:30:16) [MSC v.1940 64 bit (AMD64)]\n"
     ]
    }
   ],
   "source": [
    "import sys\n",
    "print(\"Rajkumar pandey\")\n",
    "print(\"course - MCA \")\n",
    "print(\"python version : \",sys.version)\n"
   ]
  },
  {
   "cell_type": "markdown",
   "metadata": {},
   "source": [
    "**Part 1 : Using IDLE**"
   ]
  },
  {
   "cell_type": "markdown",
   "metadata": {},
   "source": [
    "![IDLE screenshot](my.png)"
   ]
  },
  {
   "cell_type": "markdown",
   "metadata": {},
   "source": [
    "### Part 2 : Basic Python Syntax ###"
   ]
  },
  {
   "cell_type": "markdown",
   "metadata": {},
   "source": [
    "**1.String Operations**"
   ]
  },
  {
   "cell_type": "code",
   "execution_count": 3,
   "metadata": {},
   "outputs": [
    {
     "name": "stdout",
     "output_type": "stream",
     "text": [
      "False\n",
      "ZGAVGXV RAH PANDEY\n"
     ]
    }
   ],
   "source": [
    "First_name = input(\"enter your first name :\")   # taking first name from user\n",
    "Last_name = input(\"enter your second name :\")   # taking last name from user\n",
    "\n",
    "\n",
    "\n",
    "First_name = First_name.upper()  \n",
    "Last_name = Last_name.upper()    \n",
    "\n",
    "print(First_name.istitle())  \n",
    "\n",
    "print(Last_name +\" \"+First_name)  # printing both string in reverse order by giving space in inverted comma\n",
    "\n",
    " "
   ]
  },
  {
   "cell_type": "markdown",
   "metadata": {},
   "source": [
    "__in above program i have used three functions__\n",
    "\n",
    "input() function :- input function prompts user to insert  input\n",
    "\n",
    "__these two are String functions__\n",
    "\n",
    "Upper() :- Converts a string into upper case\n",
    "\n",
    "istitle() :- Check if each word start with an upper case letter"
   ]
  },
  {
   "cell_type": "markdown",
   "metadata": {},
   "source": [
    "**1. Numeric Data Types and Conversion Functions**"
   ]
  },
  {
   "cell_type": "markdown",
   "metadata": {},
   "source": [
    "I take an input number from user\n",
    "\n",
    "as i know input() function only takes string datatype as i also checked to flex below in my code\n",
    "\n",
    "__Diffrence between Data Types__\n",
    "\n",
    "1.integer is a whole number without used to count discrete items, index positions etc .\n",
    "\n",
    "2.float has a decimal point, allowing it to represent fractional values.\n",
    "\n",
    "3.complex number has both a real part and an imaginary part, represented as \"a + bj\" where a is the real part and b is the imaginary part.\n",
    "\n"
   ]
  },
  {
   "cell_type": "code",
   "execution_count": 4,
   "metadata": {},
   "outputs": [
    {
     "name": "stdout",
     "output_type": "stream",
     "text": [
      "<class 'str'>\n",
      "Integer value: 40\n",
      "Float value: 40.0\n",
      "Complex value: (40+0j)\n"
     ]
    }
   ],
   "source": [
    "number = input(\"enter a number : \")  \n",
    "\n",
    "\n",
    "int_value = int(number) \n",
    "float_value = float(number) \n",
    "complex_value = complex(number)   \n",
    "\n",
    "print(type(number)) #showing that input value is of string datatype\n",
    "\n",
    "\n",
    "#printing the values of converted datatype  \n",
    "\n",
    "print(f\"Integer value: {int_value}\")  \n",
    "print(f\"Float value: {float_value}\")  \n",
    "print(f\"Complex value: {complex_value}\") "
   ]
  },
  {
   "cell_type": "markdown",
   "metadata": {},
   "source": [
    "**1.Simple input and output**"
   ]
  },
  {
   "cell_type": "markdown",
   "metadata": {},
   "source": [
    "length = int(input(\"Enter length of rectangle : \")) # Get the length of the rectangle from the user\n",
    "breadth = int(input(\"Enter breadth of rectangle : \")) # Get the breadth of the rectangle from the user\n",
    "\n",
    "Area = length*breadth  # Calculate the area of the rectangle\n",
    "\n",
    "print(\"area of rectangle is \" ,Area)  # printing area of rectangle"
   ]
  },
  {
   "cell_type": "markdown",
   "metadata": {},
   "source": [
    "**1. Using the format Method**"
   ]
  },
  {
   "cell_type": "markdown",
   "metadata": {},
   "source": [
    "format() method is a powerful tool for creating well-structured and easily readable strings.\n",
    "I can control the number of decimal places and other number formatting."
   ]
  },
  {
   "cell_type": "code",
   "execution_count": 5,
   "metadata": {},
   "outputs": [
    {
     "name": "stdout",
     "output_type": "stream",
     "text": [
      "The area of the rectangle is: 800.00\n"
     ]
    }
   ],
   "source": [
    "# Get the length of the rectangle from the user\n",
    "length = float(input(\"Enter the length of the rectangle: \"))\n",
    "\n",
    "# Get the width of the rectangle from the user\n",
    "width = float(input(\"Enter the width of the rectangle: \"))\n",
    "\n",
    "# Calculate the area of the rectangle\n",
    "area = length * width\n",
    "\n",
    "# Display the area with two decimal places\n",
    "print(f\"The area of the rectangle is: {area:.2f}\")\n"
   ]
  },
  {
   "cell_type": "markdown",
   "metadata": {},
   "source": [
    "**1. The % Method and Print Function**"
   ]
  },
  {
   "cell_type": "markdown",
   "metadata": {},
   "source": [
    "The % operator is used to format the output string %.2f specifies that the floating-point number should be rounded to two decimal places."
   ]
  },
  {
   "cell_type": "code",
   "execution_count": 6,
   "metadata": {},
   "outputs": [
    {
     "name": "stdout",
     "output_type": "stream",
     "text": [
      "The average of the three numbers is: 11.33\n",
      " the average of three numbers is  11.333333333333334\n"
     ]
    }
   ],
   "source": [
    "# Get the three numbers from the user\n",
    "num1 = float(input(\"Enter the first number: \"))\n",
    "num2 = float(input(\"Enter the second number: \"))\n",
    "num3 = float(input(\"Enter the third number: \"))\n",
    "\n",
    "# Calculate the average of the three numbers\n",
    "average = (num1 + num2 + num3) / 3\n",
    "\n",
    "# Print the average using the % method for string formatting\n",
    "\n",
    "print(\"The average of the three numbers is: %.2f\" % average) \n",
    "print(\" the average of three numbers is \", average)\n"
   ]
  },
  {
   "cell_type": "markdown",
   "metadata": {},
   "source": [
    "### Part 3: Language Components ###"
   ]
  },
  {
   "cell_type": "markdown",
   "metadata": {},
   "source": [
    "**1. Control Flow (if statements and Loops)**"
   ]
  },
  {
   "cell_type": "code",
   "execution_count": null,
   "metadata": {},
   "outputs": [],
   "source": [
    "while True:\n",
    "    # Ask the user for a number or 'exit'\n",
    "    user_input = input(\"Enter a number (or type 'exit' to quit): \")\n",
    "    \n",
    "    # Check if the user wants to exit the loop\n",
    "    if user_input.lower() == 'exit':\n",
    "        break\n",
    "    else:\n",
    "    \n",
    "        # Convert the input to a float\n",
    "        number = float(user_input)\n",
    "        \n",
    "        # Determine if the number is positive, negative, or zero\n",
    "        if number > 0:\n",
    "            print(\"The number is positive.\")\n",
    "        elif number < 0:\n",
    "            print(\"The number is negative.\")\n",
    "        else:\n",
    "            print(\"The number is zero.\")\n",
    "    "
   ]
  },
  {
   "cell_type": "markdown",
   "metadata": {},
   "source": [
    "**1.Relation and Logical Operstors**"
   ]
  },
  {
   "cell_type": "code",
   "execution_count": 8,
   "metadata": {},
   "outputs": [
    {
     "name": "stdout",
     "output_type": "stream",
     "text": [
      "Both numbers are even.\n"
     ]
    }
   ],
   "source": [
    "# Get the two numbers from the user\n",
    "num1 = int(input(\"Enter the first number: \"))\n",
    "num2 = int(input(\"Enter the second number: \"))\n",
    "\n",
    "# Check if both numbers are even\n",
    "if num1 % 2 == 0 and num2 % 2 == 0:\n",
    "    print(\"Both numbers are even.\")\n",
    "# Check if both numbers are odd\n",
    "elif num1 % 2 != 0 and num2 % 2 != 0:\n",
    "    print(\"Both numbers are odd.\")\n",
    "# Check if one number is even and the other is odd\n",
    "elif (num1 % 2 == 0 and num2 % 2 != 0) or (num1 % 2 != 0 and num2 % 2 == 0):\n",
    "    print(\"One number is even and the other is odd.\")"
   ]
  },
  {
   "cell_type": "markdown",
   "metadata": {},
   "source": [
    "**1. For Loop and Bitwise Operators**"
   ]
  },
  {
   "cell_type": "markdown",
   "metadata": {},
   "source": [
    "1. Binary Conversion:\n",
    "\n",
    "**.** The for loop iterates over each bit position in the binary representation of the number.\n",
    "\n",
    "**.** The bit at each position is extracted using bitwise AND (&) and shifting (<<) operations.\n",
    "\n",
    "**.** These bits are then appended to the binary string.\n",
    "\n",
    "\n",
    "2. Octal and Hexadecimal Conversion:\n",
    "\n",
    "\n",
    "**.** The program uses Python's built-in format() function with 'o' for octal and 'x' for hexadecimal conversions.\n",
    "\n",
    "\n",
    "3. Binary Padding:\n",
    "\n",
    "The binary string is padded with zeros to ensure it represents a full byte (8 bits).\n",
    "\n",
    "\n",
    "4. Input Handling:\n",
    "\n",
    "The program prompts the user to enter an integer and handles invalid input using a try-except block.\n",
    "\n"
   ]
  },
  {
   "cell_type": "code",
   "execution_count": 9,
   "metadata": {},
   "outputs": [
    {
     "name": "stdout",
     "output_type": "stream",
     "text": [
      "Binary equivalent: 00001010\n",
      "Octal equivalent: 12\n",
      "Hexadecimal equivalent: A\n"
     ]
    }
   ],
   "source": [
    "def convert_and_print(num):\n",
    "    # Empty strings to store binary, octal, and hexadecimal equivalents\n",
    "    binary = ''\n",
    "    octal = ''\n",
    "    hexadecimal = ''\n",
    "    \n",
    "    # Using for loop and bitwise operations to build binary, octal, and hexadecimal representations\n",
    "    for i in range(num.bit_length() - 1, -1, -1):\n",
    "        # Extract the bit using bitwise AND and shifting\n",
    "        binary += '1' if num & (1 << i) else '0'\n",
    "    \n",
    "    # Padding binary string to make sure it's a full byte (8 bits)\n",
    "    binary = binary.zfill(8)\n",
    "    \n",
    "    # Convert to octal and hexadecimal using built-in format functions\n",
    "    # The 'o' format specifier is used for octal, and 'x' for hexadecimal\n",
    "    octal = format(num, 'o')\n",
    "    hexadecimal = format(num, 'x')\n",
    "    \n",
    "    # Print the results\n",
    "    print(f\"Binary equivalent: {binary}\")\n",
    "    print(f\"Octal equivalent: {octal}\")\n",
    "    print(f\"Hexadecimal equivalent: {hexadecimal.upper()}\")\n",
    "\n",
    "# Main program\n",
    "if __name__ == \"__main__\":\n",
    "    # Taking integer input from the user\n",
    "    try:\n",
    "        num = int(input(\"Enter an integer: \"))\n",
    "        convert_and_print(num)\n",
    "    except ValueError:\n",
    "        print(\"Please enter a valid integer.\")"
   ]
  }
 ],
 "metadata": {
  "kernelspec": {
   "display_name": "Python 3",
   "language": "python",
   "name": "python3"
  },
  "language_info": {
   "codemirror_mode": {
    "name": "ipython",
    "version": 3
   },
   "file_extension": ".py",
   "mimetype": "text/x-python",
   "name": "python",
   "nbconvert_exporter": "python",
   "pygments_lexer": "ipython3",
   "version": "3.12.4"
  }
 },
 "nbformat": 4,
 "nbformat_minor": 2
}
